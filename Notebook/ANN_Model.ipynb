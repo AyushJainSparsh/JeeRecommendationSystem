{
 "cells": [
  {
   "cell_type": "code",
   "execution_count": 2,
   "id": "b0b66b13-ee5f-42b1-b4a0-98f1b226c386",
   "metadata": {},
   "outputs": [],
   "source": [
    "import numpy as np\n",
    "import pandas as pd\n",
    "\n",
    "import tensorflow as tf\n",
    "from tensorflow.keras.models import Sequential\n",
    "from tensorflow.keras.layers import Dense\n",
    "\n",
    "from sklearn.model_selection import train_test_split\n",
    "from sklearn.preprocessing import StandardScaler"
   ]
  },
  {
   "cell_type": "code",
   "execution_count": 14,
   "id": "ceea597e-7c37-4e09-b040-06626ff08d2b",
   "metadata": {},
   "outputs": [
    {
     "data": {
      "text/plain": [
       "Index(['Institute', 'Quota', 'Gender', 'Year', 'Academic_Program_Name',\n",
       "       'Closing_Rank', 'Opening_Rank', 'Seat_Type', 'PwD'],\n",
       "      dtype='object')"
      ]
     },
     "execution_count": 14,
     "metadata": {},
     "output_type": "execute_result"
    }
   ],
   "source": [
    "dataset = pd.read_csv(r'Dataset/jee_for_model.csv')\n",
    "dataset.columns"
   ]
  },
  {
   "cell_type": "code",
   "execution_count": 18,
   "id": "8605d2aa-68ac-44c2-a55b-fff1ef034e5e",
   "metadata": {},
   "outputs": [],
   "source": [
    "X = dataset.drop(['Opening_Rank','Closing_Rank']  , axis = 1)\n",
    "y = dataset[['Opening_Rank','Closing_Rank']]"
   ]
  },
  {
   "cell_type": "code",
   "execution_count": 20,
   "id": "40626f8f-1dee-456c-b80b-b28cd49a4283",
   "metadata": {},
   "outputs": [],
   "source": [
    "X_train, X_test, y_train, y_test = train_test_split(X , y , test_size=0.25 , random_state=50)\n",
    "\n",
    "X_scaler = StandardScaler()\n",
    "y_scaler = StandardScaler()\n",
    "\n",
    "X_train = X_scaler.fit_transform(X_train)\n",
    "X_test = X_scaler.transform(X_test)\n",
    "\n",
    "y_train = y_scaler.fit_transform(y_train)\n",
    "y_test = y_scaler.transform(y_test)"
   ]
  },
  {
   "cell_type": "code",
   "execution_count": 26,
   "id": "c033f3b5-940e-4263-b81e-576392942561",
   "metadata": {},
   "outputs": [
    {
     "data": {
      "text/plain": [
       "(array([-1.5526552 ,  0.        ,  0.79858365, -0.72844556,  1.30136344,\n",
       "        -1.56998963, -0.19227119]),\n",
       " array([-0.46599029, -0.51038435]))"
      ]
     },
     "execution_count": 26,
     "metadata": {},
     "output_type": "execute_result"
    }
   ],
   "source": [
    "X_train[0] , y_train[0]"
   ]
  },
  {
   "cell_type": "code",
   "execution_count": 28,
   "id": "34b20cfc-08bf-4880-9680-0fc80b921da4",
   "metadata": {},
   "outputs": [
    {
     "data": {
      "text/plain": [
       "(array([ 1.39413151,  0.        ,  0.79858365,  1.3766174 , -0.42194905,\n",
       "         1.4934239 , -0.19227119]),\n",
       " array([-0.71605098, -0.74301967]))"
      ]
     },
     "execution_count": 28,
     "metadata": {},
     "output_type": "execute_result"
    }
   ],
   "source": [
    "X_test[0] , y_test[0]"
   ]
  },
  {
   "cell_type": "code",
   "execution_count": 34,
   "id": "642d4895-a19a-4f1d-b320-62c51c4257c3",
   "metadata": {},
   "outputs": [],
   "source": [
    "import pickle as pkl\n",
    "#with open('pickle_scaler/X_scaler.pickle' , 'wb' ) as file:\n",
    "#    pkl.dump(X_scaler , file)\n",
    "\n",
    "#with open('pickle_scaler/y_scaler.pickle' , 'wb') as file:\n",
    "#    pkl.dump(y_scaler , file)"
   ]
  },
  {
   "cell_type": "code",
   "execution_count": 36,
   "id": "39ae74e0-1893-45de-be29-e92a5ddd57c2",
   "metadata": {},
   "outputs": [],
   "source": [
    "### ANN Model preparation"
   ]
  },
  {
   "cell_type": "code",
   "execution_count": 40,
   "id": "75a0c2e4-b949-4b37-a494-db7b39860d02",
   "metadata": {},
   "outputs": [
    {
     "data": {
      "text/plain": [
       "7"
      ]
     },
     "execution_count": 40,
     "metadata": {},
     "output_type": "execute_result"
    }
   ],
   "source": [
    "X_train.shape[1]"
   ]
  },
  {
   "cell_type": "code",
   "execution_count": 46,
   "id": "bcd64312-eca7-4f9b-ae19-ce6ddd76ee1f",
   "metadata": {},
   "outputs": [
    {
     "name": "stderr",
     "output_type": "stream",
     "text": [
      "C:\\Users\\ayush\\anaconda3\\Lib\\site-packages\\keras\\src\\layers\\core\\dense.py:87: UserWarning: Do not pass an `input_shape`/`input_dim` argument to a layer. When using Sequential models, prefer using an `Input(shape)` object as the first layer in the model instead.\n",
      "  super().__init__(activity_regularizer=activity_regularizer, **kwargs)\n"
     ]
    }
   ],
   "source": [
    "model = Sequential([\n",
    "    Dense(128 , activation='relu' , input_dim = X_train.shape[1]),\n",
    "    Dense(64 , activation = 'relu' ),\n",
    "    Dense(32 , activation='relu'),\n",
    "    Dense(2 , activation='linear')\n",
    "    ])"
   ]
  },
  {
   "cell_type": "code",
   "execution_count": 50,
   "id": "917591d4-7900-4761-9e92-11c068f36657",
   "metadata": {},
   "outputs": [],
   "source": [
    "model.compile(optimizer = 'adam' , loss = 'mse' , metrics = ['mae'])"
   ]
  },
  {
   "cell_type": "code",
   "execution_count": 52,
   "id": "23f8c8ea-1437-45d5-8305-416ca393550a",
   "metadata": {},
   "outputs": [
    {
     "name": "stdout",
     "output_type": "stream",
     "text": [
      "Epoch 1/50\n",
      "\u001b[1m489/489\u001b[0m \u001b[32m━━━━━━━━━━━━━━━━━━━━\u001b[0m\u001b[37m\u001b[0m \u001b[1m2s\u001b[0m 1ms/step - loss: 0.5925 - mae: 0.4874 - val_loss: 0.4556 - val_mae: 0.4149\n",
      "Epoch 2/50\n",
      "\u001b[1m489/489\u001b[0m \u001b[32m━━━━━━━━━━━━━━━━━━━━\u001b[0m\u001b[37m\u001b[0m \u001b[1m1s\u001b[0m 1ms/step - loss: 0.4477 - mae: 0.4174 - val_loss: 0.4545 - val_mae: 0.4097\n",
      "Epoch 3/50\n",
      "\u001b[1m489/489\u001b[0m \u001b[32m━━━━━━━━━━━━━━━━━━━━\u001b[0m\u001b[37m\u001b[0m \u001b[1m1s\u001b[0m 1ms/step - loss: 0.3919 - mae: 0.3874 - val_loss: 0.4172 - val_mae: 0.3963\n",
      "Epoch 4/50\n",
      "\u001b[1m489/489\u001b[0m \u001b[32m━━━━━━━━━━━━━━━━━━━━\u001b[0m\u001b[37m\u001b[0m \u001b[1m1s\u001b[0m 1ms/step - loss: 0.4078 - mae: 0.3896 - val_loss: 0.3885 - val_mae: 0.3843\n",
      "Epoch 5/50\n",
      "\u001b[1m489/489\u001b[0m \u001b[32m━━━━━━━━━━━━━━━━━━━━\u001b[0m\u001b[37m\u001b[0m \u001b[1m1s\u001b[0m 1ms/step - loss: 0.3654 - mae: 0.3688 - val_loss: 0.3834 - val_mae: 0.3782\n",
      "Epoch 6/50\n",
      "\u001b[1m489/489\u001b[0m \u001b[32m━━━━━━━━━━━━━━━━━━━━\u001b[0m\u001b[37m\u001b[0m \u001b[1m1s\u001b[0m 1ms/step - loss: 0.3618 - mae: 0.3655 - val_loss: 0.3820 - val_mae: 0.3698\n",
      "Epoch 7/50\n",
      "\u001b[1m489/489\u001b[0m \u001b[32m━━━━━━━━━━━━━━━━━━━━\u001b[0m\u001b[37m\u001b[0m \u001b[1m1s\u001b[0m 1ms/step - loss: 0.3532 - mae: 0.3633 - val_loss: 0.3526 - val_mae: 0.3600\n",
      "Epoch 8/50\n",
      "\u001b[1m489/489\u001b[0m \u001b[32m━━━━━━━━━━━━━━━━━━━━\u001b[0m\u001b[37m\u001b[0m \u001b[1m1s\u001b[0m 1ms/step - loss: 0.3323 - mae: 0.3503 - val_loss: 0.3441 - val_mae: 0.3622\n",
      "Epoch 9/50\n",
      "\u001b[1m489/489\u001b[0m \u001b[32m━━━━━━━━━━━━━━━━━━━━\u001b[0m\u001b[37m\u001b[0m \u001b[1m1s\u001b[0m 1ms/step - loss: 0.3094 - mae: 0.3389 - val_loss: 0.3293 - val_mae: 0.3505\n",
      "Epoch 10/50\n",
      "\u001b[1m489/489\u001b[0m \u001b[32m━━━━━━━━━━━━━━━━━━━━\u001b[0m\u001b[37m\u001b[0m \u001b[1m1s\u001b[0m 1ms/step - loss: 0.3217 - mae: 0.3440 - val_loss: 0.3329 - val_mae: 0.3462\n",
      "Epoch 11/50\n",
      "\u001b[1m489/489\u001b[0m \u001b[32m━━━━━━━━━━━━━━━━━━━━\u001b[0m\u001b[37m\u001b[0m \u001b[1m1s\u001b[0m 1ms/step - loss: 0.3077 - mae: 0.3340 - val_loss: 0.3714 - val_mae: 0.3572\n",
      "Epoch 12/50\n",
      "\u001b[1m489/489\u001b[0m \u001b[32m━━━━━━━━━━━━━━━━━━━━\u001b[0m\u001b[37m\u001b[0m \u001b[1m1s\u001b[0m 1ms/step - loss: 0.3093 - mae: 0.3386 - val_loss: 0.3069 - val_mae: 0.3336\n",
      "Epoch 13/50\n",
      "\u001b[1m489/489\u001b[0m \u001b[32m━━━━━━━━━━━━━━━━━━━━\u001b[0m\u001b[37m\u001b[0m \u001b[1m1s\u001b[0m 1ms/step - loss: 0.2909 - mae: 0.3277 - val_loss: 0.3143 - val_mae: 0.3413\n",
      "Epoch 14/50\n",
      "\u001b[1m489/489\u001b[0m \u001b[32m━━━━━━━━━━━━━━━━━━━━\u001b[0m\u001b[37m\u001b[0m \u001b[1m1s\u001b[0m 1ms/step - loss: 0.2962 - mae: 0.3262 - val_loss: 0.3160 - val_mae: 0.3352\n",
      "Epoch 15/50\n",
      "\u001b[1m489/489\u001b[0m \u001b[32m━━━━━━━━━━━━━━━━━━━━\u001b[0m\u001b[37m\u001b[0m \u001b[1m1s\u001b[0m 1ms/step - loss: 0.2755 - mae: 0.3142 - val_loss: 0.3036 - val_mae: 0.3323\n",
      "Epoch 16/50\n",
      "\u001b[1m489/489\u001b[0m \u001b[32m━━━━━━━━━━━━━━━━━━━━\u001b[0m\u001b[37m\u001b[0m \u001b[1m1s\u001b[0m 1ms/step - loss: 0.2787 - mae: 0.3226 - val_loss: 0.3249 - val_mae: 0.3396\n",
      "Epoch 17/50\n",
      "\u001b[1m489/489\u001b[0m \u001b[32m━━━━━━━━━━━━━━━━━━━━\u001b[0m\u001b[37m\u001b[0m \u001b[1m1s\u001b[0m 1ms/step - loss: 0.2737 - mae: 0.3146 - val_loss: 0.2950 - val_mae: 0.3306\n",
      "Epoch 18/50\n",
      "\u001b[1m489/489\u001b[0m \u001b[32m━━━━━━━━━━━━━━━━━━━━\u001b[0m\u001b[37m\u001b[0m \u001b[1m1s\u001b[0m 1ms/step - loss: 0.2838 - mae: 0.3204 - val_loss: 0.2999 - val_mae: 0.3280\n",
      "Epoch 19/50\n",
      "\u001b[1m489/489\u001b[0m \u001b[32m━━━━━━━━━━━━━━━━━━━━\u001b[0m\u001b[37m\u001b[0m \u001b[1m1s\u001b[0m 1ms/step - loss: 0.2740 - mae: 0.3160 - val_loss: 0.2850 - val_mae: 0.3199\n",
      "Epoch 20/50\n",
      "\u001b[1m489/489\u001b[0m \u001b[32m━━━━━━━━━━━━━━━━━━━━\u001b[0m\u001b[37m\u001b[0m \u001b[1m1s\u001b[0m 1ms/step - loss: 0.2651 - mae: 0.3103 - val_loss: 0.2790 - val_mae: 0.3211\n",
      "Epoch 21/50\n",
      "\u001b[1m489/489\u001b[0m \u001b[32m━━━━━━━━━━━━━━━━━━━━\u001b[0m\u001b[37m\u001b[0m \u001b[1m1s\u001b[0m 1ms/step - loss: 0.2710 - mae: 0.3111 - val_loss: 0.2807 - val_mae: 0.3208\n",
      "Epoch 22/50\n",
      "\u001b[1m489/489\u001b[0m \u001b[32m━━━━━━━━━━━━━━━━━━━━\u001b[0m\u001b[37m\u001b[0m \u001b[1m1s\u001b[0m 1ms/step - loss: 0.2692 - mae: 0.3090 - val_loss: 0.2882 - val_mae: 0.3231\n",
      "Epoch 23/50\n",
      "\u001b[1m489/489\u001b[0m \u001b[32m━━━━━━━━━━━━━━━━━━━━\u001b[0m\u001b[37m\u001b[0m \u001b[1m1s\u001b[0m 1ms/step - loss: 0.2520 - mae: 0.3016 - val_loss: 0.2834 - val_mae: 0.3162\n",
      "Epoch 24/50\n",
      "\u001b[1m489/489\u001b[0m \u001b[32m━━━━━━━━━━━━━━━━━━━━\u001b[0m\u001b[37m\u001b[0m \u001b[1m1s\u001b[0m 1ms/step - loss: 0.2657 - mae: 0.3096 - val_loss: 0.2643 - val_mae: 0.3165\n",
      "Epoch 25/50\n",
      "\u001b[1m489/489\u001b[0m \u001b[32m━━━━━━━━━━━━━━━━━━━━\u001b[0m\u001b[37m\u001b[0m \u001b[1m1s\u001b[0m 1ms/step - loss: 0.2474 - mae: 0.2983 - val_loss: 0.2608 - val_mae: 0.3070\n",
      "Epoch 26/50\n",
      "\u001b[1m489/489\u001b[0m \u001b[32m━━━━━━━━━━━━━━━━━━━━\u001b[0m\u001b[37m\u001b[0m \u001b[1m1s\u001b[0m 1ms/step - loss: 0.2440 - mae: 0.2963 - val_loss: 0.2752 - val_mae: 0.3158\n",
      "Epoch 27/50\n",
      "\u001b[1m489/489\u001b[0m \u001b[32m━━━━━━━━━━━━━━━━━━━━\u001b[0m\u001b[37m\u001b[0m \u001b[1m1s\u001b[0m 1ms/step - loss: 0.2503 - mae: 0.2993 - val_loss: 0.2684 - val_mae: 0.3117\n",
      "Epoch 28/50\n",
      "\u001b[1m489/489\u001b[0m \u001b[32m━━━━━━━━━━━━━━━━━━━━\u001b[0m\u001b[37m\u001b[0m \u001b[1m1s\u001b[0m 1ms/step - loss: 0.2378 - mae: 0.2940 - val_loss: 0.2706 - val_mae: 0.3121\n",
      "Epoch 29/50\n",
      "\u001b[1m489/489\u001b[0m \u001b[32m━━━━━━━━━━━━━━━━━━━━\u001b[0m\u001b[37m\u001b[0m \u001b[1m1s\u001b[0m 1ms/step - loss: 0.2378 - mae: 0.2958 - val_loss: 0.2691 - val_mae: 0.3088\n",
      "Epoch 30/50\n",
      "\u001b[1m489/489\u001b[0m \u001b[32m━━━━━━━━━━━━━━━━━━━━\u001b[0m\u001b[37m\u001b[0m \u001b[1m1s\u001b[0m 1ms/step - loss: 0.2310 - mae: 0.2893 - val_loss: 0.2642 - val_mae: 0.3100\n",
      "Epoch 31/50\n",
      "\u001b[1m489/489\u001b[0m \u001b[32m━━━━━━━━━━━━━━━━━━━━\u001b[0m\u001b[37m\u001b[0m \u001b[1m1s\u001b[0m 1ms/step - loss: 0.2343 - mae: 0.2907 - val_loss: 0.2561 - val_mae: 0.3065\n",
      "Epoch 32/50\n",
      "\u001b[1m489/489\u001b[0m \u001b[32m━━━━━━━━━━━━━━━━━━━━\u001b[0m\u001b[37m\u001b[0m \u001b[1m1s\u001b[0m 1ms/step - loss: 0.2387 - mae: 0.2898 - val_loss: 0.2870 - val_mae: 0.3183\n",
      "Epoch 33/50\n",
      "\u001b[1m489/489\u001b[0m \u001b[32m━━━━━━━━━━━━━━━━━━━━\u001b[0m\u001b[37m\u001b[0m \u001b[1m1s\u001b[0m 1ms/step - loss: 0.2136 - mae: 0.2787 - val_loss: 0.2514 - val_mae: 0.3020\n",
      "Epoch 34/50\n",
      "\u001b[1m489/489\u001b[0m \u001b[32m━━━━━━━━━━━━━━━━━━━━\u001b[0m\u001b[37m\u001b[0m \u001b[1m1s\u001b[0m 1ms/step - loss: 0.2197 - mae: 0.2828 - val_loss: 0.2428 - val_mae: 0.2932\n",
      "Epoch 35/50\n",
      "\u001b[1m489/489\u001b[0m \u001b[32m━━━━━━━━━━━━━━━━━━━━\u001b[0m\u001b[37m\u001b[0m \u001b[1m1s\u001b[0m 1ms/step - loss: 0.2176 - mae: 0.2796 - val_loss: 0.2419 - val_mae: 0.2931\n",
      "Epoch 36/50\n",
      "\u001b[1m489/489\u001b[0m \u001b[32m━━━━━━━━━━━━━━━━━━━━\u001b[0m\u001b[37m\u001b[0m \u001b[1m1s\u001b[0m 1ms/step - loss: 0.2167 - mae: 0.2779 - val_loss: 0.2484 - val_mae: 0.3023\n",
      "Epoch 37/50\n",
      "\u001b[1m489/489\u001b[0m \u001b[32m━━━━━━━━━━━━━━━━━━━━\u001b[0m\u001b[37m\u001b[0m \u001b[1m1s\u001b[0m 1ms/step - loss: 0.2176 - mae: 0.2780 - val_loss: 0.2377 - val_mae: 0.2909\n",
      "Epoch 38/50\n",
      "\u001b[1m489/489\u001b[0m \u001b[32m━━━━━━━━━━━━━━━━━━━━\u001b[0m\u001b[37m\u001b[0m \u001b[1m1s\u001b[0m 1ms/step - loss: 0.2087 - mae: 0.2719 - val_loss: 0.2537 - val_mae: 0.2993\n",
      "Epoch 39/50\n",
      "\u001b[1m489/489\u001b[0m \u001b[32m━━━━━━━━━━━━━━━━━━━━\u001b[0m\u001b[37m\u001b[0m \u001b[1m1s\u001b[0m 1ms/step - loss: 0.2077 - mae: 0.2746 - val_loss: 0.2442 - val_mae: 0.2907\n",
      "Epoch 40/50\n",
      "\u001b[1m489/489\u001b[0m \u001b[32m━━━━━━━━━━━━━━━━━━━━\u001b[0m\u001b[37m\u001b[0m \u001b[1m1s\u001b[0m 1ms/step - loss: 0.2051 - mae: 0.2717 - val_loss: 0.2408 - val_mae: 0.2969\n",
      "Epoch 41/50\n",
      "\u001b[1m489/489\u001b[0m \u001b[32m━━━━━━━━━━━━━━━━━━━━\u001b[0m\u001b[37m\u001b[0m \u001b[1m1s\u001b[0m 1ms/step - loss: 0.2013 - mae: 0.2695 - val_loss: 0.2282 - val_mae: 0.2852\n",
      "Epoch 42/50\n",
      "\u001b[1m489/489\u001b[0m \u001b[32m━━━━━━━━━━━━━━━━━━━━\u001b[0m\u001b[37m\u001b[0m \u001b[1m1s\u001b[0m 1ms/step - loss: 0.2001 - mae: 0.2690 - val_loss: 0.2325 - val_mae: 0.2879\n",
      "Epoch 43/50\n",
      "\u001b[1m489/489\u001b[0m \u001b[32m━━━━━━━━━━━━━━━━━━━━\u001b[0m\u001b[37m\u001b[0m \u001b[1m1s\u001b[0m 1ms/step - loss: 0.1957 - mae: 0.2654 - val_loss: 0.2295 - val_mae: 0.2895\n",
      "Epoch 44/50\n",
      "\u001b[1m489/489\u001b[0m \u001b[32m━━━━━━━━━━━━━━━━━━━━\u001b[0m\u001b[37m\u001b[0m \u001b[1m1s\u001b[0m 1ms/step - loss: 0.2020 - mae: 0.2678 - val_loss: 0.2194 - val_mae: 0.2825\n",
      "Epoch 45/50\n",
      "\u001b[1m489/489\u001b[0m \u001b[32m━━━━━━━━━━━━━━━━━━━━\u001b[0m\u001b[37m\u001b[0m \u001b[1m1s\u001b[0m 1ms/step - loss: 0.1871 - mae: 0.2614 - val_loss: 0.2169 - val_mae: 0.2792\n",
      "Epoch 46/50\n",
      "\u001b[1m489/489\u001b[0m \u001b[32m━━━━━━━━━━━━━━━━━━━━\u001b[0m\u001b[37m\u001b[0m \u001b[1m1s\u001b[0m 1ms/step - loss: 0.1867 - mae: 0.2602 - val_loss: 0.2131 - val_mae: 0.2747\n",
      "Epoch 47/50\n",
      "\u001b[1m489/489\u001b[0m \u001b[32m━━━━━━━━━━━━━━━━━━━━\u001b[0m\u001b[37m\u001b[0m \u001b[1m1s\u001b[0m 1ms/step - loss: 0.1808 - mae: 0.2564 - val_loss: 0.2038 - val_mae: 0.2757\n",
      "Epoch 48/50\n",
      "\u001b[1m489/489\u001b[0m \u001b[32m━━━━━━━━━━━━━━━━━━━━\u001b[0m\u001b[37m\u001b[0m \u001b[1m1s\u001b[0m 1ms/step - loss: 0.1824 - mae: 0.2550 - val_loss: 0.2060 - val_mae: 0.2757\n",
      "Epoch 49/50\n",
      "\u001b[1m489/489\u001b[0m \u001b[32m━━━━━━━━━━━━━━━━━━━━\u001b[0m\u001b[37m\u001b[0m \u001b[1m1s\u001b[0m 1ms/step - loss: 0.1869 - mae: 0.2594 - val_loss: 0.2111 - val_mae: 0.2753\n",
      "Epoch 50/50\n",
      "\u001b[1m489/489\u001b[0m \u001b[32m━━━━━━━━━━━━━━━━━━━━\u001b[0m\u001b[37m\u001b[0m \u001b[1m1s\u001b[0m 1ms/step - loss: 0.1816 - mae: 0.2552 - val_loss: 0.1992 - val_mae: 0.2731\n"
     ]
    }
   ],
   "source": [
    "history = model.fit(X_train , y_train , epochs = 50 , batch_size = 32 , \n",
    "                    validation_data=(X_test , y_test))"
   ]
  },
  {
   "cell_type": "code",
   "execution_count": 54,
   "id": "03792c48-d24b-4734-a658-92849dbd8d78",
   "metadata": {},
   "outputs": [
    {
     "name": "stdout",
     "output_type": "stream",
     "text": [
      "\u001b[1m163/163\u001b[0m \u001b[32m━━━━━━━━━━━━━━━━━━━━\u001b[0m\u001b[37m\u001b[0m \u001b[1m0s\u001b[0m 768us/step - loss: 0.1966 - mae: 0.2707\n",
      "Mean Absolute Error: 0.2730918526649475\n"
     ]
    }
   ],
   "source": [
    "loss, mae = model.evaluate(X_test, y_test)\n",
    "print(f\"Mean Absolute Error: {mae}\")"
   ]
  },
  {
   "cell_type": "code",
   "execution_count": 60,
   "id": "bbb93a3f-f755-42e8-89b7-30e550d06d53",
   "metadata": {},
   "outputs": [
    {
     "name": "stdout",
     "output_type": "stream",
     "text": [
      "\u001b[1m163/163\u001b[0m \u001b[32m━━━━━━━━━━━━━━━━━━━━\u001b[0m\u001b[37m\u001b[0m \u001b[1m0s\u001b[0m 785us/step\n"
     ]
    },
    {
     "data": {
      "text/plain": [
       "0.7746634929494804"
      ]
     },
     "execution_count": 60,
     "metadata": {},
     "output_type": "execute_result"
    }
   ],
   "source": [
    "y_pred = model.predict(X_test)\n",
    "from sklearn.metrics import r2_score\n",
    "r2_score(y_test , y_pred )"
   ]
  },
  {
   "cell_type": "code",
   "execution_count": 64,
   "id": "3f440322-b596-4aeb-af78-a026f346eeea",
   "metadata": {},
   "outputs": [],
   "source": [
    "model.save('model/ann_model.keras')"
   ]
  }
 ],
 "metadata": {
  "kernelspec": {
   "display_name": "Python 3 (ipykernel)",
   "language": "python",
   "name": "python3"
  },
  "language_info": {
   "codemirror_mode": {
    "name": "ipython",
    "version": 3
   },
   "file_extension": ".py",
   "mimetype": "text/x-python",
   "name": "python",
   "nbconvert_exporter": "python",
   "pygments_lexer": "ipython3",
   "version": "3.12.4"
  }
 },
 "nbformat": 4,
 "nbformat_minor": 5
}
