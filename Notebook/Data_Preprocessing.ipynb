{
 "cells": [
  {
   "cell_type": "code",
   "execution_count": 1,
   "id": "675bdaae-40e5-474c-8e75-7a693ee92310",
   "metadata": {},
   "outputs": [],
   "source": [
    "import pandas as pd\n",
    "import numpy as np"
   ]
  },
  {
   "cell_type": "code",
   "execution_count": 2,
   "id": "ca90248d-7d70-41ff-a269-cb9664fddf62",
   "metadata": {},
   "outputs": [
    {
     "data": {
      "text/html": [
       "<div>\n",
       "<style scoped>\n",
       "    .dataframe tbody tr th:only-of-type {\n",
       "        vertical-align: middle;\n",
       "    }\n",
       "\n",
       "    .dataframe tbody tr th {\n",
       "        vertical-align: top;\n",
       "    }\n",
       "\n",
       "    .dataframe thead th {\n",
       "        text-align: right;\n",
       "    }\n",
       "</style>\n",
       "<table border=\"1\" class=\"dataframe\">\n",
       "  <thead>\n",
       "    <tr style=\"text-align: right;\">\n",
       "      <th></th>\n",
       "      <th>Institute</th>\n",
       "      <th>Quota</th>\n",
       "      <th>Gender</th>\n",
       "      <th>Year</th>\n",
       "      <th>Academic_Program_Name</th>\n",
       "      <th>Closing_Rank</th>\n",
       "      <th>Opening_Rank</th>\n",
       "      <th>Seat_Type</th>\n",
       "    </tr>\n",
       "  </thead>\n",
       "  <tbody>\n",
       "    <tr>\n",
       "      <th>0</th>\n",
       "      <td>Indian Institute of Technology Bhubaneswar</td>\n",
       "      <td>AI</td>\n",
       "      <td>Gender-Neutral</td>\n",
       "      <td>2016</td>\n",
       "      <td>Mechanical Engineering (4 Years, Bachelor of T...</td>\n",
       "      <td>651</td>\n",
       "      <td>583</td>\n",
       "      <td>ST</td>\n",
       "    </tr>\n",
       "    <tr>\n",
       "      <th>1</th>\n",
       "      <td>Indian Institute of Technology Bombay</td>\n",
       "      <td>AI</td>\n",
       "      <td>Gender-Neutral</td>\n",
       "      <td>2016</td>\n",
       "      <td>Civil Engineering (4 Years, Bachelor of Techno...</td>\n",
       "      <td>21</td>\n",
       "      <td>21</td>\n",
       "      <td>OBC-NCL (PwD)</td>\n",
       "    </tr>\n",
       "    <tr>\n",
       "      <th>2</th>\n",
       "      <td>Indian Institute of Technology Bombay</td>\n",
       "      <td>AI</td>\n",
       "      <td>Gender-Neutral</td>\n",
       "      <td>2016</td>\n",
       "      <td>Computer Science and Engineering (4 Years, Bac...</td>\n",
       "      <td>60</td>\n",
       "      <td>1</td>\n",
       "      <td>OPEN</td>\n",
       "    </tr>\n",
       "    <tr>\n",
       "      <th>3</th>\n",
       "      <td>Indian Institute of Technology Bombay</td>\n",
       "      <td>AI</td>\n",
       "      <td>Gender-Neutral</td>\n",
       "      <td>2016</td>\n",
       "      <td>Energy Engineering with M.Tech. in Energy Syst...</td>\n",
       "      <td>848</td>\n",
       "      <td>338</td>\n",
       "      <td>SC</td>\n",
       "    </tr>\n",
       "    <tr>\n",
       "      <th>4</th>\n",
       "      <td>Indian Institute of Technology Bombay</td>\n",
       "      <td>AI</td>\n",
       "      <td>Gender-Neutral</td>\n",
       "      <td>2016</td>\n",
       "      <td>Metallurgical Engineering and Materials Scienc...</td>\n",
       "      <td>2971</td>\n",
       "      <td>1657</td>\n",
       "      <td>OPEN</td>\n",
       "    </tr>\n",
       "  </tbody>\n",
       "</table>\n",
       "</div>"
      ],
      "text/plain": [
       "                                    Institute Quota          Gender  Year  \\\n",
       "0  Indian Institute of Technology Bhubaneswar    AI  Gender-Neutral  2016   \n",
       "1       Indian Institute of Technology Bombay    AI  Gender-Neutral  2016   \n",
       "2       Indian Institute of Technology Bombay    AI  Gender-Neutral  2016   \n",
       "3       Indian Institute of Technology Bombay    AI  Gender-Neutral  2016   \n",
       "4       Indian Institute of Technology Bombay    AI  Gender-Neutral  2016   \n",
       "\n",
       "                               Academic_Program_Name Closing_Rank  \\\n",
       "0  Mechanical Engineering (4 Years, Bachelor of T...          651   \n",
       "1  Civil Engineering (4 Years, Bachelor of Techno...           21   \n",
       "2  Computer Science and Engineering (4 Years, Bac...           60   \n",
       "3  Energy Engineering with M.Tech. in Energy Syst...          848   \n",
       "4  Metallurgical Engineering and Materials Scienc...         2971   \n",
       "\n",
       "  Opening_Rank      Seat_Type  \n",
       "0          583             ST  \n",
       "1           21  OBC-NCL (PwD)  \n",
       "2            1           OPEN  \n",
       "3          338             SC  \n",
       "4         1657           OPEN  "
      ]
     },
     "execution_count": 2,
     "metadata": {},
     "output_type": "execute_result"
    }
   ],
   "source": [
    "dataframe = pd.read_csv(r'Dataset/JEE_Rank_2016_2024.csv')\n",
    "dataframe.head()"
   ]
  },
  {
   "cell_type": "code",
   "execution_count": 3,
   "id": "5b166953-2405-40b0-8cec-c0a0f6545098",
   "metadata": {},
   "outputs": [
    {
     "data": {
      "text/plain": [
       "(20834, 8)"
      ]
     },
     "execution_count": 3,
     "metadata": {},
     "output_type": "execute_result"
    }
   ],
   "source": [
    "dataframe.shape"
   ]
  },
  {
   "cell_type": "code",
   "execution_count": 4,
   "id": "339c2515-f81a-4423-b006-aa414436e373",
   "metadata": {},
   "outputs": [
    {
     "name": "stdout",
     "output_type": "stream",
     "text": [
      "<class 'pandas.core.frame.DataFrame'>\n",
      "RangeIndex: 20834 entries, 0 to 20833\n",
      "Data columns (total 8 columns):\n",
      " #   Column                 Non-Null Count  Dtype \n",
      "---  ------                 --------------  ----- \n",
      " 0   Institute              20833 non-null  object\n",
      " 1   Quota                  20833 non-null  object\n",
      " 2   Gender                 20833 non-null  object\n",
      " 3   Year                   20834 non-null  int64 \n",
      " 4   Academic_Program_Name  20833 non-null  object\n",
      " 5   Closing_Rank           20833 non-null  object\n",
      " 6   Opening_Rank           20833 non-null  object\n",
      " 7   Seat_Type              20833 non-null  object\n",
      "dtypes: int64(1), object(7)\n",
      "memory usage: 1.3+ MB\n"
     ]
    }
   ],
   "source": [
    "dataframe.info()"
   ]
  },
  {
   "cell_type": "code",
   "execution_count": 5,
   "id": "77f3890d-cc8d-4340-bf23-a6eb7f2bfd66",
   "metadata": {},
   "outputs": [],
   "source": [
    "def check_isna(dataframe):\n",
    "    isna = {}\n",
    "    for col in dataframe.columns :\n",
    "        isna[col] = dataframe[col].isna().sum()\n",
    "    return isna"
   ]
  },
  {
   "cell_type": "code",
   "execution_count": 6,
   "id": "454dce12-5edd-4944-9139-5149a6f651f3",
   "metadata": {},
   "outputs": [
    {
     "data": {
      "text/plain": [
       "{'Institute': 1,\n",
       " 'Quota': 1,\n",
       " 'Gender': 1,\n",
       " 'Year': 0,\n",
       " 'Academic_Program_Name': 1,\n",
       " 'Closing_Rank': 1,\n",
       " 'Opening_Rank': 1,\n",
       " 'Seat_Type': 1}"
      ]
     },
     "execution_count": 6,
     "metadata": {},
     "output_type": "execute_result"
    }
   ],
   "source": [
    "check_isna(dataframe)"
   ]
  },
  {
   "cell_type": "code",
   "execution_count": 7,
   "id": "9633c557-283c-4025-9b69-d73738b4cb6e",
   "metadata": {},
   "outputs": [],
   "source": [
    "dataframe.dropna(inplace=True)"
   ]
  },
  {
   "cell_type": "code",
   "execution_count": 8,
   "id": "06cf35ba-b0b3-49ab-bb67-467b71b7c57e",
   "metadata": {},
   "outputs": [
    {
     "data": {
      "text/plain": [
       "{'Institute': 0,\n",
       " 'Quota': 0,\n",
       " 'Gender': 0,\n",
       " 'Year': 0,\n",
       " 'Academic_Program_Name': 0,\n",
       " 'Closing_Rank': 0,\n",
       " 'Opening_Rank': 0,\n",
       " 'Seat_Type': 0}"
      ]
     },
     "execution_count": 8,
     "metadata": {},
     "output_type": "execute_result"
    }
   ],
   "source": [
    "check_isna(dataframe)"
   ]
  },
  {
   "cell_type": "code",
   "execution_count": 9,
   "id": "2c33c76d-ccc2-4e4a-918b-820183c93f33",
   "metadata": {},
   "outputs": [
    {
     "name": "stderr",
     "output_type": "stream",
     "text": [
      "<>:1: SyntaxWarning: invalid escape sequence '\\d'\n",
      "<>:1: SyntaxWarning: invalid escape sequence '\\d'\n",
      "C:\\Users\\ayush\\AppData\\Local\\Temp\\ipykernel_516\\3472466398.py:1: SyntaxWarning: invalid escape sequence '\\d'\n",
      "  dataframe['Closing_Rank'] = dataframe['Closing_Rank'].str.extract('(\\d+\\.?\\d*)').astype(float)\n"
     ]
    }
   ],
   "source": [
    "dataframe['Closing_Rank'] = dataframe['Closing_Rank'].str.extract('(\\d+\\.?\\d*)').astype(float)"
   ]
  },
  {
   "cell_type": "code",
   "execution_count": 10,
   "id": "b0a95b1c-0435-4797-bbe3-7e1a622478d2",
   "metadata": {},
   "outputs": [
    {
     "name": "stderr",
     "output_type": "stream",
     "text": [
      "<>:1: SyntaxWarning: invalid escape sequence '\\d'\n",
      "<>:1: SyntaxWarning: invalid escape sequence '\\d'\n",
      "C:\\Users\\ayush\\AppData\\Local\\Temp\\ipykernel_516\\92629719.py:1: SyntaxWarning: invalid escape sequence '\\d'\n",
      "  dataframe['Opening_Rank'] = dataframe['Opening_Rank'].str.extract('(\\d+\\.?\\d*)').astype(float)\n"
     ]
    }
   ],
   "source": [
    "dataframe['Opening_Rank'] = dataframe['Opening_Rank'].str.extract('(\\d+\\.?\\d*)').astype(float)"
   ]
  },
  {
   "cell_type": "code",
   "execution_count": 11,
   "id": "3629c990-dbb5-4d67-9caf-708687cc91b9",
   "metadata": {},
   "outputs": [
    {
     "name": "stdout",
     "output_type": "stream",
     "text": [
      "<class 'pandas.core.frame.DataFrame'>\n",
      "Index: 20833 entries, 0 to 20833\n",
      "Data columns (total 8 columns):\n",
      " #   Column                 Non-Null Count  Dtype  \n",
      "---  ------                 --------------  -----  \n",
      " 0   Institute              20833 non-null  object \n",
      " 1   Quota                  20833 non-null  object \n",
      " 2   Gender                 20833 non-null  object \n",
      " 3   Year                   20833 non-null  int64  \n",
      " 4   Academic_Program_Name  20833 non-null  object \n",
      " 5   Closing_Rank           20833 non-null  float64\n",
      " 6   Opening_Rank           20833 non-null  float64\n",
      " 7   Seat_Type              20833 non-null  object \n",
      "dtypes: float64(2), int64(1), object(5)\n",
      "memory usage: 1.4+ MB\n"
     ]
    }
   ],
   "source": [
    "dataframe.info()"
   ]
  },
  {
   "cell_type": "code",
   "execution_count": 12,
   "id": "6f812d99-c53f-4343-b04a-2f9740f0bf88",
   "metadata": {},
   "outputs": [
    {
     "data": {
      "text/plain": [
       "(20833, 8)"
      ]
     },
     "execution_count": 12,
     "metadata": {},
     "output_type": "execute_result"
    }
   ],
   "source": [
    "dataframe.shape"
   ]
  },
  {
   "cell_type": "code",
   "execution_count": 13,
   "id": "6b2eb36d-7beb-46ea-960c-24f9849883ea",
   "metadata": {},
   "outputs": [],
   "source": [
    "def unique_dataframe(dataframe):\n",
    "    unique = {}\n",
    "    for col in dataframe.columns:\n",
    "        unique[col] = dataframe[col].nunique()\n",
    "    return unique"
   ]
  },
  {
   "cell_type": "code",
   "execution_count": 14,
   "id": "26ddc00e-cffa-40ee-bba3-dc25202123ce",
   "metadata": {
    "scrolled": true
   },
   "outputs": [
    {
     "data": {
      "text/plain": [
       "{'Institute': 24,\n",
       " 'Quota': 1,\n",
       " 'Gender': 2,\n",
       " 'Year': 9,\n",
       " 'Academic_Program_Name': 180,\n",
       " 'Closing_Rank': 7809,\n",
       " 'Opening_Rank': 7092,\n",
       " 'Seat_Type': 10}"
      ]
     },
     "execution_count": 14,
     "metadata": {},
     "output_type": "execute_result"
    }
   ],
   "source": [
    "unique_dataframe(dataframe)"
   ]
  },
  {
   "cell_type": "code",
   "execution_count": 15,
   "id": "38c3bf52-e0fe-458d-803d-41fbf3da59ab",
   "metadata": {},
   "outputs": [
    {
     "data": {
      "text/plain": [
       "array(['ST', 'OBC-NCL (PwD)', 'OPEN', 'SC', 'OBC-NCL', 'OPEN (PwD)',\n",
       "       'SC (PwD)', 'ST (PwD)', 'EWS', 'EWS (PwD)'], dtype=object)"
      ]
     },
     "execution_count": 15,
     "metadata": {},
     "output_type": "execute_result"
    }
   ],
   "source": [
    "dataframe['Seat_Type'].unique()"
   ]
  },
  {
   "cell_type": "code",
   "execution_count": 16,
   "id": "119761f7-a806-4eb0-96ca-3d073882932d",
   "metadata": {},
   "outputs": [],
   "source": [
    "pwd = ['OBC-NCL (PwD)', 'SC (PwD)', 'ST (PwD)', 'EWS (PwD)']\n",
    "\n",
    "# Create a new column 'PwD' based on the condition\n",
    "dataframe['PwD'] = dataframe['Seat_Type'].apply(lambda x: 'true' if x in pwd else 'false')\n",
    "\n",
    "# Remove \" (PwD)\" from the 'Seat_Type' column\n",
    "dataframe['Seat_Type'] = dataframe['Seat_Type'].str.replace(\" (PwD)\", \"\", regex=False)"
   ]
  },
  {
   "cell_type": "code",
   "execution_count": 17,
   "id": "89e505b5-81f5-44c1-af33-1c75adf0a4c3",
   "metadata": {},
   "outputs": [
    {
     "data": {
      "text/plain": [
       "array(['false', 'true'], dtype=object)"
      ]
     },
     "execution_count": 17,
     "metadata": {},
     "output_type": "execute_result"
    }
   ],
   "source": [
    "dataframe['PwD'].unique()"
   ]
  },
  {
   "cell_type": "code",
   "execution_count": 18,
   "id": "47512558-0e87-4b79-b2e2-9e528091b592",
   "metadata": {},
   "outputs": [
    {
     "data": {
      "text/plain": [
       "array(['ST', 'OBC-NCL', 'OPEN', 'SC', 'EWS'], dtype=object)"
      ]
     },
     "execution_count": 18,
     "metadata": {},
     "output_type": "execute_result"
    }
   ],
   "source": [
    "dataframe['Seat_Type'].unique()"
   ]
  },
  {
   "cell_type": "code",
   "execution_count": 19,
   "id": "752e0920-bf08-4555-8a97-d495eb48b8c0",
   "metadata": {},
   "outputs": [
    {
     "data": {
      "text/plain": [
       "array(['Indian Institute of Technology Bhubaneswar',\n",
       "       'Indian Institute of Technology Bombay',\n",
       "       'Indian Institute of Technology Mandi',\n",
       "       'Indian Institute of Technology Delhi',\n",
       "       'Indian Institute of Technology Kharagpur',\n",
       "       'Indian Institute of Technology Indore',\n",
       "       'Indian Institute of Technology Hyderabad',\n",
       "       'Indian Institute of Technology Jodhpur',\n",
       "       'Indian Institute of Technology Kanpur',\n",
       "       'Indian Institute of Technology Madras',\n",
       "       'Indian Institute of Technology Gandhinagar',\n",
       "       'Indian Institute of Technology Patna',\n",
       "       'Indian Institute of Technology Roorkee',\n",
       "       'Indian School of Mines Dhanbad',\n",
       "       'Indian Institute of Technology Ropar',\n",
       "       'Indian Institute of Technology (BHU) Varanasi',\n",
       "       'Indian Institute of Technology Guwahati',\n",
       "       'Indian Institute of Technology Bhilai',\n",
       "       'Indian Institute of Technology Goa',\n",
       "       'Indian Institute of Technology Palakkad',\n",
       "       'Indian Institute of Technology Jammu',\n",
       "       'Indian Institute of Technology Tirupati',\n",
       "       'Indian Institute of Technology Dharwad',\n",
       "       'Indian Institute of Technology (ISM) Dhanbad'], dtype=object)"
      ]
     },
     "execution_count": 19,
     "metadata": {},
     "output_type": "execute_result"
    }
   ],
   "source": [
    "dataframe['Institute'].unique()"
   ]
  },
  {
   "cell_type": "code",
   "execution_count": 20,
   "id": "21ad0bed-e50f-46f1-a08f-48ae73dc5b3e",
   "metadata": {},
   "outputs": [
    {
     "data": {
      "text/plain": [
       "array(['Mechanical Engineering (4 Years, Bachelor of Technology)',\n",
       "       'Civil Engineering (4 Years, Bachelor of Technology)',\n",
       "       'Computer Science and Engineering (4 Years, Bachelor of Technology)',\n",
       "       'Energy Engineering with M.Tech. in Energy Systems Engineering (5 Years, Bachelor and Master of Technology (Dual Degree))',\n",
       "       'Metallurgical Engineering and Materials Science (4 Years, Bachelor of Technology)',\n",
       "       'Mathematics and Computing (4 Years, Bachelor of Technology)',\n",
       "       'Production and Industrial Engineering (4 Years, Bachelor of Technology)',\n",
       "       'Biochemical Engineering and Biotechnology (5 Years, Bachelor and Master of Technology (Dual Degree))',\n",
       "       'Biotechnology and Biochemical Engineering (4 Years, Bachelor of Technology)',\n",
       "       'Chemical Engineering (4 Years, Bachelor of Technology)',\n",
       "       'Electrical Engineering (4 Years, Bachelor of Technology)',\n",
       "       'Aerospace Engineering (5 Years, Bachelor and Master of Technology (Dual Degree))',\n",
       "       'Aerospace Engineering (4 Years, Bachelor of Technology)',\n",
       "       'Chemistry (5 Years, Integrated Master of Science)',\n",
       "       'Economics (5 Years, Integrated Master of Science)',\n",
       "       'Civil Engineering and M.Tech in Transportation Engineering (5 Years, Bachelor and Master of Technology (Dual Degree))',\n",
       "       'Civil Engineering and M. Tech. in Structural Engineering (5 Years, Bachelor and Master of Technology (Dual Degree))',\n",
       "       'Mechanical Engineering and M. Tech. in Thermal Science & Engineering (5 Years, Bachelor and Master of Technology (Dual Degree))',\n",
       "       'Mathematics and Computing (5 Years, Bachelor and Master of Technology (Dual Degree))',\n",
       "       'Metallurgical and Materials Engineering (4 Years, Bachelor of Technology)',\n",
       "       'Chemistry (4 Years, Bachelor of Science)',\n",
       "       'Electrical Engineering with M.Tech. in Microelectronics (5 Years, Bachelor and Master of Technology (Dual Degree))',\n",
       "       'Agricultural and Food Engineering (4 Years, Bachelor of Technology)',\n",
       "       'Architecture (5 Years, Bachelor of Architecture)',\n",
       "       'Metallurgical Engineering and Materials Science with M.Tech. in Ceramics and Composites (5 Years, Bachelor and Master of Technology (Dual Degree))',\n",
       "       'Mechanical Engineering and M. Tech. in Mechanical System Design (5 Years, Bachelor and Master of Technology (Dual Degree))',\n",
       "       'Metallurgical Engineering and Materials Science with M.Tech. in Metallurgical Process Engineering (5 Years, Bachelor and Master of Technology (Dual Degree))',\n",
       "       'Chemical Engineering (5 Years, Bachelor and Master of Technology (Dual Degree))',\n",
       "       'Computer Science and Engineering (5 Years, Bachelor and Master of Technology (Dual Degree))',\n",
       "       'Electrical Engineering (Power and Automation) (4 Years, Bachelor of Technology)',\n",
       "       'Applied Geology (5 Years, Integrated Master of Science)',\n",
       "       'Electrical Engineering with M.Tech. in any of the listed specializations (5 Years, Bachelor and Master of Technology (Dual Degree))',\n",
       "       'Mechanical Engineering and M.Tech. in Computer Integrated Manufacturing (5 Years, Bachelor and Master of Technology (Dual Degree))',\n",
       "       'Engineering Physics (4 Years, Bachelor of Technology)',\n",
       "       'Textile Technology (4 Years, Bachelor of Technology)',\n",
       "       'Civil Engineering with any of the listed specialization (5 Years, Bachelor and Master of Technology (Dual Degree))',\n",
       "       'Electronics and Electrical Communication Engineering (4 Years, Bachelor of Technology)',\n",
       "       'Agricultural and Food Engineering with M.Tech. in any of the listed specializations (5 Years, Bachelor and Master of Technology (Dual Degree))',\n",
       "       'Electronics and Communication Engineering (4 Years, Bachelor of Technology)',\n",
       "       'Engineering Physics and M.Tech. with specialization in Nano Science (5 Years, Bachelor and Master of Technology (Dual Degree))',\n",
       "       'Electrical Engineering with M.Tech. in Communications and Signal Processing (5 Years, Bachelor and Master of Technology (Dual Degree))',\n",
       "       'Biotechnology and Biochemical Engineering (5 Years, Bachelor and Master of Technology (Dual Degree))',\n",
       "       'Electronics and Electrical Communication Engineering with M.Tech. in any of the listed specializations (5 Years, Bachelor and Master of Technology (Dual Degree))',\n",
       "       'Industrial and Systems Engineering (4 Years, Bachelor of Technology)',\n",
       "       'Industrial and Systems Engineering with M.Tech. in Industrial and Systems Engineering and Management (5 Years, Bachelor and Master of Technology (Dual Degree))',\n",
       "       'Exploration Geophysics (5 Years, Integrated Master of Science)',\n",
       "       'Instrumentation Engineering (4 Years, Bachelor of Technology)',\n",
       "       'Mining Engineering (4 Years, Bachelor of Technology)',\n",
       "       'Mining Engineering (5 Years, Bachelor and Master of Technology (Dual Degree))',\n",
       "       'Ocean Engineering and Naval Architecture (4 Years, Bachelor of Technology)',\n",
       "       'Quality Engineering Design and Manufacturing (5 Years, Bachelor and Master of Technology (Dual Degree))',\n",
       "       'Economics (4 Years, Bachelor of Science)',\n",
       "       'Materials Science and Engineering (4 Years, Bachelor of Technology)',\n",
       "       'Biological Engineering (5 Years, Bachelor and Master of Technology (Dual Degree))',\n",
       "       'Biological Sciences (5 Years, Bachelor of Science and Master of Science (Dual Degree))',\n",
       "       'Civil Engineering (5 Years, Bachelor and Master of Technology (Dual Degree))',\n",
       "       'Naval Architecture and Ocean Engineering (4 Years, Bachelor of Technology)',\n",
       "       'Geophysical Technology (5 Years, Integrated Master of Technology)',\n",
       "       'Electronics and Instrumentation Engineering (4 Years, Bachelor of Technology)',\n",
       "       'Manufacturing Science and Engineering with M.Tech. in Industrial and Systems Engineering and Management (5 Years, Bachelor and Master of Technology (Dual Degree))',\n",
       "       'Mechanical Engineering with M.Tech. in any of the listed specializations (5 Years, Bachelor and Master of Technology (Dual Degree))',\n",
       "       'Physics (5 Years, Integrated Master of Science)',\n",
       "       'Engineering Science (4 Years, Bachelor of Technology)',\n",
       "       'Materials Science and Metallurgical Engineering (4 Years, Bachelor of Technology)',\n",
       "       'Earth Sciences (4 Years, Bachelor of Science)',\n",
       "       'Electrical Engineering (5 Years, Bachelor and Master of Technology (Dual Degree))',\n",
       "       'Engineering Design (5 Years, Bachelor and Master of Technology (Dual Degree))',\n",
       "       'Mechanical Engineering (5 Years, Bachelor and Master of Technology (Dual Degree))',\n",
       "       'Physics (5 Years, Bachelor of Science and Master of Science (Dual Degree))',\n",
       "       'Metallurgical and Materials Engineering (5 Years, Bachelor and Master of Technology (Dual Degree))',\n",
       "       'Geological Technology (5 Years, Integrated Master of Technology)',\n",
       "       'Polymer Science and Engineering (4 Years, Bachelor of Technology)',\n",
       "       'Environmental Engineering (4 Years, Bachelor of Technology)',\n",
       "       'Mathematics and Computing (5 Years, Integrated Master of Technology)',\n",
       "       'Ocean Engineering and Naval Architecture (5 Years, Bachelor and Master of Technology (Dual Degree))',\n",
       "       'Biological Sciences and Bioengineering (4 Years, Bachelor of Technology)',\n",
       "       'Mathematics and Scientific Computing (4 Years, Bachelor of Science)',\n",
       "       'Mathematics and Computing (5 Years, Integrated Master of Science)',\n",
       "       'Physics (4 Years, Bachelor of Science)',\n",
       "       'Mineral Engineering (4 Years, Bachelor of Technology)',\n",
       "       'Applied Mathematics (5 Years, Integrated Master of Science)',\n",
       "       'Applied Geology (5 Years, Integrated Master of Technology)',\n",
       "       'Applied Geophysics (5 Years, Integrated Master of Technology)',\n",
       "       'Mining Safety Engineering (5 Years, Bachelor and Master of Technology (Dual Degree))',\n",
       "       'Bio Technology (4 Years, Bachelor of Technology)',\n",
       "       'Manufacturing Science and Engineering (4 Years, Bachelor of Technology)',\n",
       "       'Naval Architecture and Ocean Engineering (5 Years, Bachelor and Master of Technology (Dual Degree))',\n",
       "       'Mining Machinery Engineering (4 Years, Bachelor of Technology)',\n",
       "       'Petroleum Engineering (4 Years, Bachelor of Technology)',\n",
       "       'Bioengineering with M.Tech in Biomedical Technology (5 Years, Bachelor and Master of Technology (Dual Degree))',\n",
       "       'Ceramic Engineering (5 Years, Bachelor and Master of Technology (Dual Degree))',\n",
       "       'Metallurgical Engineering (4 Years, Bachelor of Technology)',\n",
       "       'Biochemical Engineering with M.Tech. in Biochemical Engineering and Biotechnology (5 Years, Bachelor and Master of Technology (Dual Degree))',\n",
       "       'Ceramic Engineering (4 Years, Bachelor of Technology)',\n",
       "       'Electronics and Electrical Engineering (4 Years, Bachelor of Technology)',\n",
       "       'Electrical Engineering with M.Tech. in Power Electronics (5 Years, Bachelor and Master of Technology (Dual Degree))',\n",
       "       'Materials Science and Technology (5 Years, Bachelor and Master of Technology (Dual Degree))',\n",
       "       'Metallurgical Engineering (5 Years, Bachelor and Master of Technology (Dual Degree))',\n",
       "       'Pharmaceutics (5 Years, Bachelor and Master of Pharmaceutics(Dual Degree))',\n",
       "       'Electronics Engineering (4 Years, Bachelor of Technology)',\n",
       "       'Engineering Physics (5 Years, Integrated Master of Technology)',\n",
       "       'Civil Engineering with M.Tech. in Structural Engineering (5 Years, Bachelor and Master of Technology (Dual Degree))',\n",
       "       'Industrial Chemistry (5 Years, Integrated Master of Technology)',\n",
       "       'Pharmaceutics (4 Years, Bachelor of Pharmaceutics)',\n",
       "       'Chemical Science and Technology (4 Years, Bachelor of Technology)',\n",
       "       'Electrical Engineering and M.Tech Power Electronics and Drives (5 Years, Bachelor and Master of Technology (Dual Degree))',\n",
       "       'Mechanical Engineering with M.Tech. in Manufacturing Engineering (5 Years, Bachelor and Master of Technology (Dual Degree))',\n",
       "       'Metallurgical and Materials Engineering and M.Tech. in Materials Science and Engineering (5 Years, Bachelor and Master of Technology (Dual Degree))',\n",
       "       'Civil Engineering and M.Tech. in Environmental Engineering (5 Years, Bachelor and Master of Technology (Dual Degree))',\n",
       "       'Industrial Chemistry (5 Years, Bachelor and Master of Technology (Dual Degree))',\n",
       "       'Pharmaceutical Engineering & Technology (5 Years, Bachelor and Master of Technology (Dual Degree))',\n",
       "       'Pharmaceutical Engineering & Technology (4 Years, Bachelor of Technology)',\n",
       "       'Engineering Physics (5 Years, Bachelor and Master of Technology (Dual Degree))',\n",
       "       'BS in Mathematics (4 Years, Bachelor of Science)',\n",
       "       'Environmental Science and Engineering (5 Years, Bachelor and Master of Technology (Dual Degree))',\n",
       "       'Data Science and Engineering (4 Years, Bachelor of Technology)',\n",
       "       'Metallurgical Engineering & Materials Science (5 Years, Bachelor and Master of Technology (Dual Degree))',\n",
       "       'Bio Engineering (5 Years, Bachelor and Master of Technology (Dual Degree))',\n",
       "       'Artificial Intelligence (4 Years, Bachelor of Technology)',\n",
       "       'Bio Engineering (4 Years, Bachelor of Technology)',\n",
       "       'Electrical and Electronics Engineering (4 Years, Bachelor of Technology)',\n",
       "       'Engineering and Computational Mechanics (4 Years, Bachelor of Technology)',\n",
       "       'Materials Engineering (4 Years, Bachelor of Technology)',\n",
       "       'Biomedical Engineering (4 Years, Bachelor of Technology)',\n",
       "       'Artificial Intelligence and Data Science (4 Years, Bachelor of Technology)',\n",
       "       'Civil and Infrastructure Engineering (4 Years, Bachelor of Technology)',\n",
       "       'Mineral and Metallurgical Engineering (4 Years, Bachelor of Technology)',\n",
       "       'Biosciences and Bioengineering (4 Years, Bachelor of Technology)',\n",
       "       'Data Science and Artificial Intelligence (4 Years, Bachelor of Technology)',\n",
       "       'Energy Engineering (4 Years, Bachelor of Technology)',\n",
       "       'Applied Geology (4 Years, Bachelor of Science)',\n",
       "       'Exploration Geophysics (4 Years, Bachelor of Science)',\n",
       "       'Mathematics and Computing (4 Years, Bachelor of Science)',\n",
       "       'Computational Engineering (4 Years, Bachelor of Technology)',\n",
       "       'Biotechnology and Bioinformatics (4 Years, Bachelor of Technology)',\n",
       "       'Industrial Chemistry (4 Years, Bachelor of Technology)',\n",
       "       'Statistics and Data Science (4 Years, Bachelor of Science)',\n",
       "       'Chemical Sciences (5 Years, Bachelor of Science and Master of Science (Dual Degree))',\n",
       "       'Mathematics & Computing (5 Years, Bachelor of Science and Master of Science (Dual Degree))',\n",
       "       'Economics (5 Years, Bachelor of Science and Master of Science (Dual Degree))',\n",
       "       'Electrical Engineering (IC Design and Technology) (4 Years, Bachelor of Technology)',\n",
       "       'Chemistry with Specialization (4 Years, Bachelor of Science)',\n",
       "       'Physics with Specialization (4 Years, Bachelor of Science)',\n",
       "       'Mechatronics Engineering (4 Years, Bachelor of Technology)',\n",
       "       'Chemical and Biochemical Engineering (4 Years, Bachelor of Technology)',\n",
       "       'Interdisciplinary Sciences (5 Years, Bachelor of Science and Master of Science (Dual Degree))',\n",
       "       'Environmental Science and Engineering (4 Years, Bachelor of Technology)',\n",
       "       'B.Tech in General Engineering (4 Years, Bachelor of Technology)',\n",
       "       'B.Tech in Materials Science and Engineering (4 Years, Bachelor of Technology)',\n",
       "       'B.Tech in Mathematics and Computing (4 Years, Bachelor of Technology)',\n",
       "       'B.Tech in Microelectronics & VLSI (4 Years, Bachelor of Technology)',\n",
       "       'BS in Chemical Sciences (4 Years, Bachelor of Science)',\n",
       "       'Space Sciences and Engineering (4 Years, Bachelor of Technology)',\n",
       "       'Biological Engineering (4 Years, Bachelor of Technology)',\n",
       "       'Biological Science (4 Years, Bachelor of Science)',\n",
       "       'B. Tech in CE. - M. Tech. in Geotechnical Engineering (5 Years, B.Tech. + M.Tech./MS (Dual Degree))',\n",
       "       'B. Tech in CE. - M. Tech. in Structural Engineering (5 Years, B.Tech. + M.Tech./MS (Dual Degree))',\n",
       "       'B. Tech. (CSE) and M.Tech in CSE (5 Years, B.Tech. + M.Tech./MS (Dual Degree))',\n",
       "       'B. Tech. (ECE) -M. Tech. in VLSI (5 Years, B.Tech. + M.Tech./MS (Dual Degree))',\n",
       "       'B. Tech. (EEE)-M. Tech. in (Power &. Control) (5 Years, B.Tech. + M.Tech./MS (Dual Degree))',\n",
       "       'B. Tech. (Mathematics & Computing) M. Tech. in (Mathematics & Computing) (5 Years, B.Tech. + M.Tech./MS (Dual Degree))',\n",
       "       'B. Tech. (ME) - M. Tech. in Mechatronics (5 Years, B.Tech. + M.Tech./MS (Dual Degree))',\n",
       "       'B. Tech. (ME) - MBA (NITIE) (5 Years, Bachelor of Technology and MBA (Dual Degree))',\n",
       "       'B.Tech. in Electronics and Communication Engineering and M.Tech. in Communication Systems (5 Years, Bachelor and Master of Technology (Dual Degree))',\n",
       "       'Artificial Intelligence and Data Engineering (4 Years, Bachelor of Technology)',\n",
       "       'Industrial Engineering and Operations Research (4 Years, Bachelor of Technology)',\n",
       "       'Artificial Intelligence and Data Analytics (4 Years, Bachelor of Technology)',\n",
       "       'Integrated Circuit Design & Technology (4 Years, Bachelor of Technology)',\n",
       "       'B.Tech (Artificial Intelligence and Data Science) - MBA in Digital Business Management (IIM Bodh Gaya) (5 Years, Bachelor of Technology and MBA (Dual Degree))',\n",
       "       'B.Tech (Chemical Engineering) - MBA in Hospital and Health Care Management (IIM Bodh Gaya) (5 Years, Bachelor of Technology and MBA (Dual Degree))',\n",
       "       'B.Tech (Chemical Science and Technology) - MBA in Hospital and Health Care Management (IIM Bodh Gaya) (5 Years, Bachelor of Technology and MBA (Dual Degree))',\n",
       "       'B.Tech (Civil Engineering) - MBA (IIM Bodh Gaya) (5 Years, Bachelor of Technology and MBA (Dual Degree))',\n",
       "       'B.Tech (Computer Science and Engineering) - MBA in Digital Business Management (IIM Bodh Gaya) (5 Years, Bachelor of Technology and MBA (Dual Degree))',\n",
       "       'B.Tech (Electrical and Electronics Engineering) - MBA (IIM Bodh Gaya) (5 Years, Bachelor of Technology and MBA (Dual Degree))',\n",
       "       'B.Tech (Electronics and Communication Engineering) - MBA in Hospital and Healthcare Management (IIM Bodh Gaya) (5 Years, Bachelor of Technology and MBA (Dual Degree))',\n",
       "       'B.Tech (Engineering Physics) - MBA (IIM Bodh Gaya) (5 Years, Bachelor of Technology and MBA (Dual Degree))',\n",
       "       'B.Tech (Mathematics and Computing) - MBA in Digital Business Management (IIM Bodh Gaya) (5 Years, Bachelor of Technology and MBA (Dual Degree))',\n",
       "       'B.Tech (Mechanical Engineering) - MBA (IIM Mumbai) (5 Years, Bachelor of Technology and MBA (Dual Degree))',\n",
       "       'B.Tech (Metallurgical and Materials Engineering) - MBA (IIM Bodh Gaya) (5 Years, Bachelor of Technology and MBA (Dual Degree))',\n",
       "       'BS in Economics with MBA (IIM Bodh Gaya) (5 Years, Bachelor of Science and MBA (Dual Degree))'],\n",
       "      dtype=object)"
      ]
     },
     "execution_count": 20,
     "metadata": {},
     "output_type": "execute_result"
    }
   ],
   "source": [
    "dataframe['Academic_Program_Name'].unique()"
   ]
  },
  {
   "cell_type": "code",
   "execution_count": 43,
   "id": "a8ed58ad-cbb1-4983-9416-c1b6d5a9b6c3",
   "metadata": {},
   "outputs": [],
   "source": [
    "#dataframe.to_csv('jee_data_for_visualize.csv' , index = False)"
   ]
  }
 ],
 "metadata": {
  "kernelspec": {
   "display_name": "Python 3 (ipykernel)",
   "language": "python",
   "name": "python3"
  },
  "language_info": {
   "codemirror_mode": {
    "name": "ipython",
    "version": 3
   },
   "file_extension": ".py",
   "mimetype": "text/x-python",
   "name": "python",
   "nbconvert_exporter": "python",
   "pygments_lexer": "ipython3",
   "version": "3.12.4"
  }
 },
 "nbformat": 4,
 "nbformat_minor": 5
}
