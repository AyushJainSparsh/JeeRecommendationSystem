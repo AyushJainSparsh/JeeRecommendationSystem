{
 "cells": [
  {
   "cell_type": "code",
   "execution_count": 1,
   "id": "5bbf2fb6-abfe-4577-86f7-7f109772fa57",
   "metadata": {},
   "outputs": [],
   "source": [
    "import numpy as np\n",
    "import pandas as pd\n",
    "\n",
    "import tensorflow as tf\n",
    "from tensorflow.keras.models import Sequential\n",
    "from tensorflow.keras.layers import Dense, SimpleRNN\n",
    "from sklearn.model_selection import train_test_split\n",
    "from sklearn.preprocessing import StandardScaler"
   ]
  },
  {
   "cell_type": "code",
   "execution_count": 2,
   "id": "5b19da00-db25-4c2a-8d2d-57809cf9b3ce",
   "metadata": {},
   "outputs": [],
   "source": [
    "dataset = pd.read_csv(r'Dataset/jee_for_model.csv')\n",
    "\n",
    "X = dataset.drop(['Opening_Rank','Closing_Rank']  , axis = 1)\n",
    "y = dataset[['Opening_Rank','Closing_Rank']]\n",
    "X = X.to_numpy()\n",
    "y = y.to_numpy()\n",
    "\n",
    "time_steps = 1\n",
    "if X.shape[1] % time_steps == 0:\n",
    "    X_reshaped = X.reshape(X.shape[0], time_steps, X.shape[1] // time_steps)\n",
    "else:\n",
    "    print(f\"Cannot reshape: Number of features {X.shape[1]} is not divisible by {time_steps}\")\n",
    "\n",
    "X_train, X_test, y_train, y_test = train_test_split(X_reshaped , y , test_size=0.25 , random_state=50)"
   ]
  },
  {
   "cell_type": "code",
   "execution_count": 3,
   "id": "a9fef76c-797c-4373-920e-81f51e2881a1",
   "metadata": {},
   "outputs": [
    {
     "data": {
      "text/plain": [
       "(15624, 1, 7)"
      ]
     },
     "execution_count": 3,
     "metadata": {},
     "output_type": "execute_result"
    }
   ],
   "source": [
    "X_train.shape"
   ]
  },
  {
   "cell_type": "code",
   "execution_count": 4,
   "id": "d38fb988-4b4b-4e3e-bc94-128129b9033e",
   "metadata": {},
   "outputs": [
    {
     "data": {
      "text/plain": [
       "(15624, 2)"
      ]
     },
     "execution_count": 4,
     "metadata": {},
     "output_type": "execute_result"
    }
   ],
   "source": [
    "y_train.shape"
   ]
  },
  {
   "cell_type": "code",
   "execution_count": 5,
   "id": "fa0f5e05-ad79-4467-bfbb-957d52529638",
   "metadata": {},
   "outputs": [
    {
     "name": "stderr",
     "output_type": "stream",
     "text": [
      "C:\\Users\\ayush\\anaconda3\\Lib\\site-packages\\keras\\src\\layers\\rnn\\rnn.py:204: UserWarning: Do not pass an `input_shape`/`input_dim` argument to a layer. When using Sequential models, prefer using an `Input(shape)` object as the first layer in the model instead.\n",
      "  super().__init__(**kwargs)\n"
     ]
    }
   ],
   "source": [
    "## RNN MODEL\n",
    "\n",
    "model = Sequential([\n",
    "    SimpleRNN(128 , activation='tanh' , input_shape = (1 , X_train.shape[2])),\n",
    "    Dense(64 , activation = 'relu' ),\n",
    "    Dense(32 , activation='relu'),\n",
    "    Dense(2 , activation='linear')\n",
    "    ])"
   ]
  },
  {
   "cell_type": "code",
   "execution_count": 6,
   "id": "f2b337ac-1858-478c-9413-45b0a09c76de",
   "metadata": {},
   "outputs": [
    {
     "name": "stdout",
     "output_type": "stream",
     "text": [
      "Epoch 1/10\n",
      "\u001b[1m391/391\u001b[0m \u001b[32m━━━━━━━━━━━━━━━━━━━━\u001b[0m\u001b[37m\u001b[0m \u001b[1m2s\u001b[0m 2ms/step - loss: 22928024.0000 - mae: 2801.4656 - val_loss: 17419326.0000 - val_mae: 2769.5337\n",
      "Epoch 2/10\n",
      "\u001b[1m391/391\u001b[0m \u001b[32m━━━━━━━━━━━━━━━━━━━━\u001b[0m\u001b[37m\u001b[0m \u001b[1m1s\u001b[0m 1ms/step - loss: 15605470.0000 - mae: 2693.5981 - val_loss: 17404734.0000 - val_mae: 2778.0486\n",
      "Epoch 3/10\n",
      "\u001b[1m391/391\u001b[0m \u001b[32m━━━━━━━━━━━━━━━━━━━━\u001b[0m\u001b[37m\u001b[0m \u001b[1m1s\u001b[0m 1ms/step - loss: 15902505.0000 - mae: 2734.0190 - val_loss: 17411428.0000 - val_mae: 2757.4099\n",
      "Epoch 4/10\n",
      "\u001b[1m391/391\u001b[0m \u001b[32m━━━━━━━━━━━━━━━━━━━━\u001b[0m\u001b[37m\u001b[0m \u001b[1m1s\u001b[0m 1ms/step - loss: 16616776.0000 - mae: 2757.7908 - val_loss: 17407286.0000 - val_mae: 2768.0457\n",
      "Epoch 5/10\n",
      "\u001b[1m391/391\u001b[0m \u001b[32m━━━━━━━━━━━━━━━━━━━━\u001b[0m\u001b[37m\u001b[0m \u001b[1m1s\u001b[0m 1ms/step - loss: 16099488.0000 - mae: 2729.8132 - val_loss: 17411316.0000 - val_mae: 2757.8025\n",
      "Epoch 6/10\n",
      "\u001b[1m391/391\u001b[0m \u001b[32m━━━━━━━━━━━━━━━━━━━━\u001b[0m\u001b[37m\u001b[0m \u001b[1m1s\u001b[0m 1ms/step - loss: 15732124.0000 - mae: 2694.2275 - val_loss: 17435666.0000 - val_mae: 2872.0854\n",
      "Epoch 7/10\n",
      "\u001b[1m391/391\u001b[0m \u001b[32m━━━━━━━━━━━━━━━━━━━━\u001b[0m\u001b[37m\u001b[0m \u001b[1m1s\u001b[0m 1ms/step - loss: 15717001.0000 - mae: 2706.5833 - val_loss: 17406166.0000 - val_mae: 2771.8345\n",
      "Epoch 8/10\n",
      "\u001b[1m391/391\u001b[0m \u001b[32m━━━━━━━━━━━━━━━━━━━━\u001b[0m\u001b[37m\u001b[0m \u001b[1m1s\u001b[0m 1ms/step - loss: 15934737.0000 - mae: 2720.2222 - val_loss: 17425348.0000 - val_mae: 2734.9229\n",
      "Epoch 9/10\n",
      "\u001b[1m391/391\u001b[0m \u001b[32m━━━━━━━━━━━━━━━━━━━━\u001b[0m\u001b[37m\u001b[0m \u001b[1m1s\u001b[0m 1ms/step - loss: 16379796.0000 - mae: 2736.8899 - val_loss: 17422514.0000 - val_mae: 2738.8208\n",
      "Epoch 10/10\n",
      "\u001b[1m391/391\u001b[0m \u001b[32m━━━━━━━━━━━━━━━━━━━━\u001b[0m\u001b[37m\u001b[0m \u001b[1m1s\u001b[0m 1ms/step - loss: 16957254.0000 - mae: 2801.8586 - val_loss: 17454176.0000 - val_mae: 2705.6765\n"
     ]
    }
   ],
   "source": [
    "model.compile(optimizer = 'adam' , loss = 'mse' , metrics = ['mae'])\n",
    "history = model.fit(X_train , y_train , epochs = 10 , batch_size = 32 , validation_split = 0.2)"
   ]
  },
  {
   "cell_type": "code",
   "execution_count": 7,
   "id": "614b01c3-f857-4d06-8eb1-b465d3f15a57",
   "metadata": {},
   "outputs": [
    {
     "name": "stdout",
     "output_type": "stream",
     "text": [
      "163/163 - 0s - 759us/step - loss: 14386250.0000 - mae: 2555.0291\n",
      "Test Loss: 14386250.0, Test MAE: 2555.029052734375\n"
     ]
    }
   ],
   "source": [
    "test_loss, test_mae = model.evaluate(X_test, y_test, verbose=2)\n",
    "print(f\"Test Loss: {test_loss}, Test MAE: {test_mae}\")"
   ]
  }
 ],
 "metadata": {
  "kernelspec": {
   "display_name": "Python 3 (ipykernel)",
   "language": "python",
   "name": "python3"
  },
  "language_info": {
   "codemirror_mode": {
    "name": "ipython",
    "version": 3
   },
   "file_extension": ".py",
   "mimetype": "text/x-python",
   "name": "python",
   "nbconvert_exporter": "python",
   "pygments_lexer": "ipython3",
   "version": "3.12.4"
  }
 },
 "nbformat": 4,
 "nbformat_minor": 5
}
